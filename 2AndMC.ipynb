{
  "nbformat": 4,
  "nbformat_minor": 0,
  "metadata": {
    "colab": {
      "provenance": []
    },
    "kernelspec": {
      "name": "python3",
      "display_name": "Python 3"
    },
    "language_info": {
      "name": "python"
    }
  },
  "cells": [
    {
      "cell_type": "code",
      "execution_count": null,
      "metadata": {
        "id": "TTbVHblSlJaE"
      },
      "outputs": [],
      "source": [
        "# 2. Generate ANDNOT function using McCulloch-Pitts neural net by a python  program.\n"
      ]
    },
    {
      "cell_type": "code",
      "source": [
        "import numpy as np\n",
        "def mp_neuron(inputs, weights, threshold):\n",
        "    weighted_sum = np.dot(inputs, weights)\n",
        "    output = 1 if weighted_sum >= threshold else 0\n",
        "    return output\n",
        "def and_not(x1, x2):\n",
        "    weights = [1, -1]\n",
        "    threshold = 1\n",
        "    inputs = np.array([x1, x2])\n",
        "    output = mp_neuron(inputs, weights, threshold)\n",
        "    return output\n",
        "print(and_not(0, 0))\n",
        "print(and_not(1, 0))\n",
        "print(and_not(0, 1))\n",
        "print(and_not(1, 1))"
      ],
      "metadata": {
        "colab": {
          "base_uri": "https://localhost:8080/"
        },
        "id": "C29mJk2-lPIg",
        "outputId": "6440fab6-4ded-4138-d12f-b5bcd6df6e06"
      },
      "execution_count": null,
      "outputs": [
        {
          "output_type": "stream",
          "name": "stdout",
          "text": [
            "0\n",
            "1\n",
            "0\n",
            "0\n"
          ]
        }
      ]
    }
  ]
}