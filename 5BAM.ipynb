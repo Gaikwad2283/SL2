{
  "nbformat": 4,
  "nbformat_minor": 0,
  "metadata": {
    "colab": {
      "provenance": []
    },
    "kernelspec": {
      "name": "python3",
      "display_name": "Python 3"
    },
    "language_info": {
      "name": "python"
    }
  },
  "cells": [
    {
      "cell_type": "code",
      "execution_count": null,
      "metadata": {
        "colab": {
          "base_uri": "https://localhost:8080/"
        },
        "id": "fMTZK_nJV59-",
        "outputId": "ad77b56b-e622-4ef1-b5dd-41ad10eef5b2"
      },
      "outputs": [
        {
          "output_type": "stream",
          "name": "stdout",
          "text": [
            "Input x: [ 1 -1 -1 -1]\n",
            "Output y: [ 1 -1]\n"
          ]
        }
      ],
      "source": [
        "import numpy as np\n",
        "X = np.array([[1, 1, 1, -1], [-1, -1, 1, 1]])\n",
        "Y = np.array([[1, -1], [-1, 1]])\n",
        "W = np.dot(Y.T, X)\n",
        "\n",
        "def bam(x):\n",
        "    return np.sign(np.dot(W, x))\n",
        "\n",
        "x_test = np.array([1, -1, -1, -1])\n",
        "y_test = bam(x_test)\n",
        "\n",
        "\n",
        "print(\"Input x:\", x_test)\n",
        "print(\"Output y:\", y_test)"
      ]
    }
  ]
}